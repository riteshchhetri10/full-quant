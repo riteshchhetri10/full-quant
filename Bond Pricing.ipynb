{
 "cells": [
  {
   "cell_type": "code",
   "execution_count": 17,
   "metadata": {},
   "outputs": [
    {
     "name": "stdout",
     "output_type": "stream",
     "text": [
      "The price of the bond is: $ 924.56\n"
     ]
    }
   ],
   "source": [
    "class ZeroCouponBonds:\n",
    "    def __init__(self,maturity,principal,interest_rate):\n",
    "        self.principal = principal\n",
    "        self.interest_rate = interest_rate / 100\n",
    "        self.maturity = maturity\n",
    "    \n",
    "    \n",
    "    def present_value(self,x,n):\n",
    "        return x/(1+self.interest_rate)**n\n",
    "    \n",
    "    def calculate_price(self):\n",
    "        return self.present_value(self.principal,self.maturity)\n",
    "    \n",
    "if __name__ == '__main__':\n",
    "    bond = ZeroCouponBonds(2,1000,4)\n",
    "    \n",
    "    print('The price of the bond is: $ %.2f' %bond.calculate_price())\n",
    "    \n",
    "    "
   ]
  },
  {
   "cell_type": "markdown",
   "metadata": {},
   "source": [
    "# Bond Pricing Coupon Bonds\n"
   ]
  },
  {
   "cell_type": "code",
   "execution_count": 10,
   "metadata": {},
   "outputs": [
    {
     "name": "stdout",
     "output_type": "stream",
     "text": [
      "The present value of Coupon bond is: $ 1166.51\n"
     ]
    }
   ],
   "source": [
    "class CouponBonds:\n",
    "    def __init__(self,principal,rate,maturity,interest_rate):\n",
    "        self.principal = principal\n",
    "        self.rate = rate / 100\n",
    "        self.maturity = maturity\n",
    "        self.interest_rate = interest_rate / 100\n",
    "        \n",
    "    def present_value(self,x,n):\n",
    "        return x/(1+self.interest_rate)**n\n",
    "    \n",
    "    def calculate_price(self):\n",
    "        \n",
    "        #discount coupon payments\n",
    "        \n",
    "        p1 = 0\n",
    "        c = (self.rate * self.principal)\n",
    "        for i in range(1,self.maturity + 1):\n",
    "            p1 = p1 + (self.present_value(c,i))\n",
    "            \n",
    "        #discount principle amount\n",
    "        \n",
    "        p1+=self.present_value(self.principal,self.maturity)\n",
    "        \n",
    "        return p1\n",
    "    \n",
    "    \n",
    "    \n",
    "    \n",
    "if __name__ == '__main__':\n",
    "    bond2 = CouponBonds(1000,10,3,4)\n",
    "    print(\"The present value of Coupon bond is: $ %.2f\" %bond2.calculate_price())\n",
    "    \n",
    "    #bond2.print_stuff()\n",
    "        "
   ]
  },
  {
   "cell_type": "code",
   "execution_count": 17,
   "metadata": {},
   "outputs": [
    {
     "name": "stdout",
     "output_type": "stream",
     "text": [
      "The price of the bond is: $ 924.56\n"
     ]
    }
   ],
   "source": [
    "class ZeroCouponBonds:\n",
    "    def __init__(self,maturity,principal,interest_rate):\n",
    "        self.principal = principal\n",
    "        self.interest_rate = interest_rate / 100\n",
    "        self.maturity = maturity\n",
    "    \n",
    "    \n",
    "    def present_value(self,x,n):\n",
    "        return x*exp(-self.interest_rate*n)\n",
    "    \n",
    "    def calculate_price(self):\n",
    "        return self.present_value(self.principal,self.maturity)\n",
    "    \n",
    "if __name__ == '__main__':\n",
    "    bond = ZeroCouponBonds(2,1000,4)\n",
    "    \n",
    "    print('The price of the bond is: $ %.2f' %bond.calculate_price())\n",
    "    \n",
    "    "
   ]
  }
 ],
 "metadata": {
  "kernelspec": {
   "display_name": "Python 3",
   "language": "python",
   "name": "python3"
  },
  "language_info": {
   "codemirror_mode": {
    "name": "ipython",
    "version": 3
   },
   "file_extension": ".py",
   "mimetype": "text/x-python",
   "name": "python",
   "nbconvert_exporter": "python",
   "pygments_lexer": "ipython3",
   "version": "3.8.5"
  }
 },
 "nbformat": 4,
 "nbformat_minor": 4
}
