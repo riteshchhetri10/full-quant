{
 "cells": [
  {
   "cell_type": "code",
   "execution_count": 3,
   "metadata": {},
   "outputs": [],
   "source": [
    "from scipy import stats\n",
    "from numpy import log,exp,sqrt"
   ]
  },
  {
   "cell_type": "code",
   "execution_count": 4,
   "metadata": {},
   "outputs": [],
   "source": [
    "def call_option_price(S, E, T, rf, sigma):\n",
    "    #first we calculate d1 and d2\n",
    "    d1 = (log(S/E) + (rf + (sigma**2)/2.0)*T)/(sigma*sqrt(T))\n",
    "    d2 = d1 - sigma*sqrt(T)\n",
    "    \n",
    "    print(\"The d1 and d2 parameters are: %s, %s\" %(d1,d2))\n",
    "    return S*stats.norm.cdf(d1) - E*exp(-rf*T)*stats.norm.cdf(d2)\n",
    "    \n",
    "#use normal distribution to calculate the price of the options\n"
   ]
  },
  {
   "cell_type": "code",
   "execution_count": 5,
   "metadata": {},
   "outputs": [],
   "source": [
    "def put_option_price(S, E, T, rf, sigma):\n",
    "    #first we calculate d1 and d2\n",
    "    d1 = (log(S/E) + (rf + (sigma**2)/2.0)*T)/(sigma*sqrt(T))\n",
    "    d2 = d1 - sigma*sqrt(T)\n",
    "    \n",
    "    print(\"The d1 and d2 parameters are: %s, %s\" %(d1,d2))\n",
    "    return -S*stats.norm.cdf(-d1) + E*exp(-rf*T)*stats.norm.cdf(-d2)\n",
    "    \n",
    "#use normal distribution to calculate the price of the options\n",
    "\n",
    "\n"
   ]
  },
  {
   "cell_type": "code",
   "execution_count": 6,
   "metadata": {},
   "outputs": [
    {
     "name": "stdout",
     "output_type": "stream",
     "text": [
      "The d1 and d2 parameters are: 0.35000000000000003, 0.15000000000000002\n",
      "the call option based on bsm: 10.450583572185565\n",
      "The d1 and d2 parameters are: 0.35000000000000003, 0.15000000000000002\n",
      "the put option based on bsm: 5.573526022256971\n"
     ]
    }
   ],
   "source": [
    "if __name__ == '__main__':\n",
    "    S0 = 100\n",
    "    E = 100\n",
    "    T = 1\n",
    "    rf = 0.05\n",
    "    sigma = 0.2\n",
    "    \n",
    "    print(\"the call option based on bsm:\", call_option_price(S0,E,T,rf,sigma))\n",
    "    print(\"the put option based on bsm:\", put_option_price(S0,E,T,rf,sigma))\n",
    "    \n",
    "    "
   ]
  },
  {
   "cell_type": "code",
   "execution_count": null,
   "metadata": {},
   "outputs": [],
   "source": []
  }
 ],
 "metadata": {
  "kernelspec": {
   "display_name": "Python 3",
   "language": "python",
   "name": "python3"
  },
  "language_info": {
   "codemirror_mode": {
    "name": "ipython",
    "version": 3
   },
   "file_extension": ".py",
   "mimetype": "text/x-python",
   "name": "python",
   "nbconvert_exporter": "python",
   "pygments_lexer": "ipython3",
   "version": "3.8.5"
  }
 },
 "nbformat": 4,
 "nbformat_minor": 4
}
