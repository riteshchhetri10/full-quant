{
 "cells": [
  {
   "cell_type": "code",
   "execution_count": 6,
   "metadata": {},
   "outputs": [],
   "source": [
    "import numpy as np\n",
    "import yfinance as yf\n",
    "from scipy.stats import norm\n",
    "import pandas as pd \n",
    "import datetime\n"
   ]
  },
  {
   "cell_type": "code",
   "execution_count": 25,
   "metadata": {},
   "outputs": [],
   "source": [
    "def download_data(stock,start_date,end_date):\n",
    "    data = {}\n",
    "    ticker = yf.download(stock,start_date,end_date)\n",
    "    data['Citigroup'] = ticker['Adj Close']\n",
    "    return pd.DataFrame(data)\n",
    "    "
   ]
  },
  {
   "cell_type": "code",
   "execution_count": 26,
   "metadata": {},
   "outputs": [],
   "source": [
    "# VAR is calculated\n",
    "def calc_var(position, c, mu, sigma, n):\n",
    "    v = norm.ppf(1-c)\n",
    "    var = position * (mu*n - sigma*np.sqrt(n)*v)\n",
    "    return var"
   ]
  },
  {
   "cell_type": "code",
   "execution_count": 27,
   "metadata": {},
   "outputs": [
    {
     "name": "stdout",
     "output_type": "stream",
     "text": [
      "[*********************100%***********************]  1 of 1 completed\n",
      "            Citigroup   returns\n",
      "Date                           \n",
      "2017-01-04  54.500610  0.013443\n",
      "2017-01-05  53.550999 -0.017577\n",
      "2017-01-06  53.737366  0.003474\n",
      "2017-01-09  53.444508 -0.005465\n",
      "2017-01-10  53.453381  0.000166\n",
      "...               ...       ...\n",
      "2020-12-24  59.643246 -0.003461\n",
      "2020-12-28  60.194679  0.009203\n",
      "2020-12-29  59.978043 -0.003605\n",
      "2020-12-30  59.928810 -0.000821\n",
      "2020-12-31  60.716568  0.013059\n",
      "\n",
      "[1006 rows x 2 columns]\n",
      "The VaR is: $40588.52\n"
     ]
    }
   ],
   "source": [
    "if __name__ == '__main__':\n",
    "    start = datetime.datetime(2017,1,1)\n",
    "    end = datetime.datetime(2021,1,1)\n",
    "    stock_data = download_data('C', start, end)\n",
    "    stock_data['returns'] = np.log(stock_data['Citigroup']/stock_data['Citigroup'].shift(1))\n",
    "    stock_data = stock_data[1:]\n",
    "    print(stock_data)\n",
    "    \n",
    "    #investment 1 million dollars\n",
    "    \n",
    "    S = 1e6\n",
    "    \n",
    "    #confidence interval\n",
    "    \n",
    "    c = 0.95\n",
    "    \n",
    "    # we assume daily returns are normally distributed\n",
    "    \n",
    "    mu = np.mean(stock_data['returns'])\n",
    "    sigma = np.std(stock_data['returns'])\n",
    "    \n",
    "    print(\"The VaR is: $%0.2f\" % calc_var(S,c,mu,sigma,1))\n",
    "    \n",
    "    \n",
    "    "
   ]
  },
  {
   "cell_type": "code",
   "execution_count": null,
   "metadata": {},
   "outputs": [],
   "source": [
    "# we can lose at max $ 40588 (n = 1 ) tomorrow if we invest a million dollars in stocks of Citigroup."
   ]
  }
 ],
 "metadata": {
  "kernelspec": {
   "display_name": "Python 3",
   "language": "python",
   "name": "python3"
  },
  "language_info": {
   "codemirror_mode": {
    "name": "ipython",
    "version": 3
   },
   "file_extension": ".py",
   "mimetype": "text/x-python",
   "name": "python",
   "nbconvert_exporter": "python",
   "pygments_lexer": "ipython3",
   "version": "3.8.5"
  }
 },
 "nbformat": 4,
 "nbformat_minor": 4
}
